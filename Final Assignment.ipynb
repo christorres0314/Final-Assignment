{
 "cells": [
  {
   "cell_type": "markdown",
   "id": "3381528c-ca95-4c2c-adc5-196823e8b19f",
   "metadata": {},
   "source": [
    "# Data Science Essentials"
   ]
  },
  {
   "cell_type": "markdown",
   "id": "06ae4c7e-bb79-4c4b-9e17-4b6bb6215c4a",
   "metadata": {},
   "source": [
    "## This notebook is going to cover the essentials of data science, including:\n",
    "* Popular languages\n",
    "* Libraries\n",
    "* Tools\n",
    "* Basic arithmetic operations"
   ]
  },
  {
   "cell_type": "markdown",
   "id": "02a4f562-7c4f-4016-a702-16c2b7b463ed",
   "metadata": {},
   "source": [
    "## The most commonly used Data Science languages include: \n",
    "   \n",
    "1. Python\n",
    "2. R\n",
    "3. Julia\n",
    "4. SQL\n",
    "5. Scala"
   ]
  },
  {
   "cell_type": "markdown",
   "id": "7a12130b-b232-4e96-a6c2-913917865d4e",
   "metadata": {},
   "source": [
    "## The libraries used in Data Science consist of:\n",
    "\n",
    "*Scientific Computing*\n",
    "1. Pandas (Data Structure)\n",
    "2. NumPy (Arrays and Matrices)\n",
    "\n",
    "*Visualization*\n",
    "1. Matplotlib (plots & graphs, most popular)\n",
    "2. Seaborn (plots: heat maps, time series, violin stops)\n",
    "\n",
    "*Machine Learning and Deep Learning*\n",
    "1. Scikit-learn (Regression, classification, ...)\n",
    "2. Keras (Deep Learning Neural Networks)\n",
    "\n",
    "*Deep Learning Libraries*\n",
    "1. TensorFlow (Production and Deployment)\n",
    "2. PyTorch (Regression, Classification,...)"
   ]
  },
  {
   "cell_type": "markdown",
   "id": "05b3b1e7-d21e-4eb1-b31b-3502108a887d",
   "metadata": {},
   "source": [
    "| Tool | Description | Language |\n",
    "| --- | --- | --- |\n",
    "| Jupyter Notebook | Interactive computing environment | Python, R, Julia |\n",
    "| RStudio | Integrated development environment for R | R |\n",
    "| PyCharm | Python IDE with data science support | Python |\n",
    "| VSCode | Code editor with data science extensions | Python, R, Julia |\n",
    "| Databricks | Collaborative platform for big data analytics | Python, R, SQL, Scala |\n"
   ]
  },
  {
   "cell_type": "markdown",
   "id": "cb8797b9-1d73-4acf-b073-d4e340cd72c5",
   "metadata": {},
   "source": [
    "## In this section, I will demonstrate a simple arithmetic operation"
   ]
  },
  {
   "cell_type": "code",
   "execution_count": 2,
   "id": "1643700a-1c76-43f5-9b13-0dd8b23633ad",
   "metadata": {},
   "outputs": [
    {
     "data": {
      "text/plain": [
       "44"
      ]
     },
     "execution_count": 2,
     "metadata": {},
     "output_type": "execute_result"
    }
   ],
   "source": [
    "a=34\n",
    "b=10\n",
    "result=(a+b)\n",
    "result"
   ]
  },
  {
   "cell_type": "code",
   "execution_count": 8,
   "id": "22a087dc-9781-4a7b-b936-d864a7966418",
   "metadata": {},
   "outputs": [
    {
     "data": {
      "text/plain": [
       "3.0"
      ]
     },
     "execution_count": 8,
     "metadata": {},
     "output_type": "execute_result"
    }
   ],
   "source": [
    "minutes=180\n",
    "hours=minutes/60\n",
    "hours"
   ]
  },
  {
   "cell_type": "markdown",
   "id": "c4370b77-1eef-47a5-92be-83bfdb34f4d9",
   "metadata": {},
   "source": [
    "## My objectives are:\n",
    "\n",
    "1. Learn about coding and it's functions\n",
    "2. Learn to use different languages and libraries\n",
    "3. Familiarize with data science tools\n",
    "4. Be able to do difficult projects"
   ]
  },
  {
   "cell_type": "markdown",
   "id": "434e57ef-ea90-484c-8f70-fb7969c9e672",
   "metadata": {},
   "source": [
    "## My name is\n",
    "\n",
    "[Christian Torres Rodriguez"
   ]
  }
 ],
 "metadata": {
  "kernelspec": {
   "display_name": "Python",
   "language": "python",
   "name": "conda-env-python-py"
  },
  "language_info": {
   "codemirror_mode": {
    "name": "ipython",
    "version": 3
   },
   "file_extension": ".py",
   "mimetype": "text/x-python",
   "name": "python",
   "nbconvert_exporter": "python",
   "pygments_lexer": "ipython3",
   "version": "3.7.12"
  }
 },
 "nbformat": 4,
 "nbformat_minor": 5
}
